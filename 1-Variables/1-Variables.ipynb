{
 "cells": [
  {
   "cell_type": "markdown",
   "metadata": {},
   "source": [
    "# Variables\n",
    "---\n"
   ]
  },
  {
   "cell_type": "markdown",
   "metadata": {},
   "source": [
    "## How to create a variable?\n",
    "`variable_name` = `value`"
   ]
  },
  {
   "cell_type": "code",
   "execution_count": 1,
   "metadata": {},
   "outputs": [
    {
     "name": "stdout",
     "output_type": "stream",
     "text": [
      "The Salary is: 10000\n"
     ]
    }
   ],
   "source": [
    "salary = 10000\n",
    "print('The Salary is:', salary)"
   ]
  },
  {
   "cell_type": "markdown",
   "metadata": {},
   "source": [
    "### Exercise 1\n",
    "\n",
    "calculate the total salary\n",
    "`Total Salary` = (`Base Salary`) * (`1 + Bonus Rate`)"
   ]
  },
  {
   "cell_type": "code",
   "execution_count": 2,
   "metadata": {},
   "outputs": [
    {
     "name": "stdout",
     "output_type": "stream",
     "text": [
      "The Total Salary is: 11000.0\n"
     ]
    }
   ],
   "source": [
    "base_salary = 10000\n",
    "bonus_rate = .10\n",
    "\n",
    "total_salary = (base_salary)*(1+bonus_rate)\n",
    "print('The Total Salary is:', total_salary)"
   ]
  },
  {
   "cell_type": "markdown",
   "metadata": {},
   "source": [
    "## Declaring Multiple Variables in a Line.\n",
    "`first_variable_name`, `second_variable_name` = `first_value`, `second_value`"
   ]
  },
  {
   "cell_type": "markdown",
   "metadata": {},
   "source": [
    "### Exercise 2\n",
    "\n",
    "Declared the following variables and assign them with relevant values.\n",
    "\n",
    "*Note: declare all in one line:*\n",
    "\n",
    "- Job Id\n",
    "- Company Name\n",
    "- Job Title\n",
    "- Job Salary\n",
    "- Is it a remote position?"
   ]
  },
  {
   "cell_type": "code",
   "execution_count": 3,
   "metadata": {},
   "outputs": [
    {
     "name": "stdout",
     "output_type": "stream",
     "text": [
      "**********************************\n",
      "*         Job Description        *\n",
      "**********************************\n",
      "Job ID           : 5044\n",
      "Company Name     : Data Dojo Inc.\n",
      "Job Title        : Data Engineer\n",
      "Salary           : 100000\n",
      "Remote Position  : False\n"
     ]
    }
   ],
   "source": [
    "job_id, company_name, job_title, job_salary, remote = 5044, 'Data Dojo Inc.', 'Data Engineer', 100000, False\n",
    "\n",
    "print('**********************************')\n",
    "print('*         Job Description        *')\n",
    "print('**********************************')\n",
    "print('Job ID           :', job_id)\n",
    "print('Company Name     :', company_name)\n",
    "print('Job Title        :', job_title)\n",
    "print('Salary           :', job_salary)\n",
    "print('Remote Position  :', remote)"
   ]
  }
 ],
 "metadata": {
  "kernelspec": {
   "display_name": "Python 3",
   "language": "python",
   "name": "python3"
  },
  "language_info": {
   "codemirror_mode": {
    "name": "ipython",
    "version": 3
   },
   "file_extension": ".py",
   "mimetype": "text/x-python",
   "name": "python",
   "nbconvert_exporter": "python",
   "pygments_lexer": "ipython3",
   "version": "3.12.0b4"
  }
 },
 "nbformat": 4,
 "nbformat_minor": 2
}
